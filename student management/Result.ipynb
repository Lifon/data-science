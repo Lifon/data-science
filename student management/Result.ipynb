{
  "nbformat": 4,
  "nbformat_minor": 0,
  "metadata": {
    "colab": {
      "name": "Untitled8.ipynb",
      "provenance": [],
      "authorship_tag": "ABX9TyNiFkRVSyrKRoEW7wyD8gE/",
      "include_colab_link": true
    },
    "kernelspec": {
      "name": "python3",
      "display_name": "Python 3"
    }
  },
  "cells": [
    {
      "cell_type": "markdown",
      "metadata": {
        "id": "view-in-github",
        "colab_type": "text"
      },
      "source": [
        "<a href=\"https://colab.research.google.com/github/Lifon/data-science/blob/main/student%20management/Result.ipynb\" target=\"_parent\"><img src=\"https://colab.research.google.com/assets/colab-badge.svg\" alt=\"Open In Colab\"/></a>"
      ]
    },
    {
      "cell_type": "code",
      "metadata": {
        "id": "uuihtZlj1XE1"
      },
      "source": [
        "class Result:\n",
        "  student_id = 0\n",
        "  cgpa = 0.0\n",
        "  def getResult(id)\n",
        "  {\n",
        "      if(id == 1935365650):\n",
        "          return 4.0\n",
        "      eif(id==1935369650):\n",
        "        return 3.14\n",
        "      \n",
        "  }"
      ],
      "execution_count": null,
      "outputs": []
    }
  ]
}