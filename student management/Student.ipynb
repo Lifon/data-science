{
  "nbformat": 4,
  "nbformat_minor": 0,
  "metadata": {
    "colab": {
      "name": "Untitled7.ipynb",
      "provenance": [],
      "authorship_tag": "ABX9TyNhNZkvOcD0cXYVBw5QNeKS",
      "include_colab_link": true
    },
    "kernelspec": {
      "name": "python3",
      "display_name": "Python 3"
    }
  },
  "cells": [
    {
      "cell_type": "markdown",
      "metadata": {
        "id": "view-in-github",
        "colab_type": "text"
      },
      "source": [
        "<a href=\"https://colab.research.google.com/github/Lifon/data-science/blob/main/student%20management/Student.ipynb\" target=\"_parent\"><img src=\"https://colab.research.google.com/assets/colab-badge.svg\" alt=\"Open In Colab\"/></a>"
      ]
    },
    {
      "cell_type": "code",
      "metadata": {
        "id": "ncBX5PVmvsJz"
      },
      "source": [
        "class Student:\n",
        "  name = \"\"\n",
        "  id = \"\"\n",
        "  result = (CourseHistory().getResult())\n",
        "\n",
        "  def studentDetails(self):\n",
        "    print(\"Name: %s and Id: result: %f\"%(self.name,self.id,self.result))"
      ],
      "execution_count": null,
      "outputs": []
    }
  ]
}