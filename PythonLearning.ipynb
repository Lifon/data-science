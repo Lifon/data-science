{
  "nbformat": 4,
  "nbformat_minor": 0,
  "metadata": {
    "colab": {
      "name": "Untitled6.ipynb",
      "provenance": [],
      "authorship_tag": "ABX9TyOyQwmcljf1Ye5xpCJtDTn+",
      "include_colab_link": true
    },
    "kernelspec": {
      "name": "python3",
      "display_name": "Python 3"
    }
  },
  "cells": [
    {
      "cell_type": "markdown",
      "metadata": {
        "id": "view-in-github",
        "colab_type": "text"
      },
      "source": [
        "<a href=\"https://colab.research.google.com/github/Lifon/data-science/blob/main/PythonLearning.ipynb\" target=\"_parent\"><img src=\"https://colab.research.google.com/assets/colab-badge.svg\" alt=\"Open In Colab\"/></a>"
      ]
    },
    {
      "cell_type": "code",
      "metadata": {
        "id": "cObjvZgmdCB_"
      },
      "source": [
        "#1 basic class and object\n",
        "class Student:\n",
        "  name=\"Abdul Motaleb\"\n",
        "  def  printDetails(self):\n",
        "    print(\"My name is :\"+self.name)\n",
        "AML = Student()\n",
        "AML.printDetails()\n",
        "\n",
        "# 2 car class practice\n",
        "class Vehicle:\n",
        "  name=\"\"\n",
        "  kind=\"car\" #q : Why this default value?\n",
        "  color=\"\"\n",
        "  value=0.0\n",
        "  def getDetails(self):\n",
        "    details = \"%s is a %s   %s car worth $%.2f.\"%(self.name,self.kind,self.color,self.value)\n",
        "    return details\n",
        "\n",
        "car1 = Vehicle();\n",
        "car2 = Vehicle();\n",
        "\n",
        "car1.name= \"Fer\"\n",
        "car1.color = \"Red\"\n",
        "car1.kind =\"Convertible\"\n",
        "car1.value = 60000.0\n",
        "\n",
        "\n",
        "car2.name= \"Jump\"\n",
        "car2.color = \"Blue\"\n",
        "car2.kind =\"Van\"\n",
        "car2.value = 10000.0\n",
        "\n",
        "print(car1.getDetails())\n",
        "print(car2.getDetails())"
      ],
      "execution_count": null,
      "outputs": []
    }
  ]
}