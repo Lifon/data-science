{
  "nbformat": 4,
  "nbformat_minor": 0,
  "metadata": {
    "colab": {
      "name": "Untitled6.ipynb",
      "provenance": [],
      "authorship_tag": "ABX9TyPGr9sywChwWpOvvJRMXMa0",
      "include_colab_link": true
    },
    "kernelspec": {
      "name": "python3",
      "display_name": "Python 3"
    }
  },
  "cells": [
    {
      "cell_type": "markdown",
      "metadata": {
        "id": "view-in-github",
        "colab_type": "text"
      },
      "source": [
        "<a href=\"https://colab.research.google.com/github/Lifon/data-science/blob/main/PythonLearning.ipynb\" target=\"_parent\"><img src=\"https://colab.research.google.com/assets/colab-badge.svg\" alt=\"Open In Colab\"/></a>"
      ]
    },
    {
      "cell_type": "code",
      "metadata": {
        "id": "cObjvZgmdCB_",
        "outputId": "8fac5fdc-200f-41c7-ce7a-e166818ddcd2",
        "colab": {
          "base_uri": "https://localhost:8080/",
          "height": 34
        }
      },
      "source": [
        "\"\"\"\n",
        "#1 basic class and object\n",
        "class Student:\n",
        "  name=\"Abdul Motaleb\"\n",
        "  def  printDetails(self):\n",
        "    print(\"My name is :\"+self.name)\n",
        "AML = Student()\n",
        "AML.printDetails()\n",
        "\n",
        "# 2 car class practice\n",
        "class Vehicle:\n",
        "  name=\"\"\n",
        "  kind=\"car\" #q : Why this default value?\n",
        "  color=\"\"\n",
        "  value=0.0\n",
        "  def getDetails(self):\n",
        "    details = \"%s is a %s   %s car worth $%.2f.\"%(self.name,self.kind,self.color,self.value)\n",
        "    return details\n",
        "\n",
        "car1 = Vehicle();\n",
        "car2 = Vehicle();\n",
        "\n",
        "car1.name= \"Fer\"\n",
        "car1.color = \"Red\"\n",
        "car1.kind =\"Convertible\"\n",
        "car1.value = 60000.0\n",
        "\n",
        "\n",
        "car2.name= \"Jump\"\n",
        "car2.color = \"Blue\"\n",
        "car2.kind =\"Van\"\n",
        "car2.value = 10000.0\n",
        "\n",
        "print(car1.getDetails())\n",
        "print(car2.getDetails())\n",
        "\"\"\"\n",
        "#3 Dictonary\n",
        "\n",
        "ourNsuId = {}\n",
        "ourNsuId[\"minhaz sir\"] = 1935365650\n",
        "ourNsuId[\"lipon\"] = 1935369650\n",
        "ourNsuId[\"sayem\"] = 1935190650\n",
        "ourNsuId[\"rumman\"] = 2016652650\n",
        "\n",
        "print(ourNsuId)"
      ],
      "execution_count": 1,
      "outputs": [
        {
          "output_type": "stream",
          "text": [
            "{'minhaz sir': 1935365650, 'lipon': 1935369650, 'sayem': 1935190650, 'rumman': 2016652650}\n"
          ],
          "name": "stdout"
        }
      ]
    }
  ]
}