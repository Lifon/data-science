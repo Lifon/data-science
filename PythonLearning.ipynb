{
  "nbformat": 4,
  "nbformat_minor": 0,
  "metadata": {
    "colab": {
      "name": "Untitled6.ipynb",
      "provenance": [],
      "authorship_tag": "ABX9TyNQHnzX4vbUwC07AeeWvoqb",
      "include_colab_link": true
    },
    "kernelspec": {
      "name": "python3",
      "display_name": "Python 3"
    }
  },
  "cells": [
    {
      "cell_type": "markdown",
      "metadata": {
        "id": "view-in-github",
        "colab_type": "text"
      },
      "source": [
        "<a href=\"https://colab.research.google.com/github/Lifon/data-science/blob/main/PythonLearning.ipynb\" target=\"_parent\"><img src=\"https://colab.research.google.com/assets/colab-badge.svg\" alt=\"Open In Colab\"/></a>"
      ]
    },
    {
      "cell_type": "code",
      "metadata": {
        "id": "cObjvZgmdCB_",
        "outputId": "8c278370-0ce3-4290-d958-8aed96ede6ba",
        "colab": {
          "base_uri": "https://localhost:8080/",
          "height": 136
        }
      },
      "source": [
        "\"\"\"\n",
        "#1 basic class and object\n",
        "class Student:\n",
        "  name=\"Abdul Motaleb\"\n",
        "  def  printDetails(self):\n",
        "    print(\"My name is :\"+self.name)\n",
        "AML = Student()\n",
        "AML.printDetails()\n",
        "\n",
        "# 2 car class practice\n",
        "class Vehicle:\n",
        "  name=\"\"\n",
        "  kind=\"car\" #q : Why this default value?\n",
        "  color=\"\"\n",
        "  value=0.0\n",
        "  def getDetails(self):\n",
        "    details = \"%s is a %s   %s car worth $%.2f.\"%(self.name,self.kind,self.color,self.value)\n",
        "    return details\n",
        "\n",
        "car1 = Vehicle();\n",
        "car2 = Vehicle();\n",
        "\n",
        "car1.name= \"Fer\"\n",
        "car1.color = \"Red\"\n",
        "car1.kind =\"Convertible\"\n",
        "car1.value = 60000.0\n",
        "\n",
        "\n",
        "car2.name= \"Jump\"\n",
        "car2.color = \"Blue\"\n",
        "car2.kind =\"Van\"\n",
        "car2.value = 10000.0\n",
        "\n",
        "print(car1.getDetails())\n",
        "print(car2.getDetails())\n",
        "\"\"\"\n",
        "#3 Dictonary\n",
        "\n",
        "ourNsuId = {}\n",
        "ourNsuId[\"minhaz sir\"] = 1935365650\n",
        "ourNsuId[\"lipon\"] = 1935369650\n",
        "ourNsuId[\"sayem\"] = 1935190650\n",
        "ourNsuId[\"rumman\"] = 2016652650 \n",
        "\n",
        "#another way of initializing values\n",
        "\n",
        "ourNsuId = {\n",
        "    \"minhaz sir\" : 1935365650,\n",
        "    \"lipon\" : 1935369650,\n",
        "    \"sayem\" : 1935190650,\n",
        "    \"rumman\" : 2016652650,\n",
        "}\n",
        "#print(ourNsuId)\n",
        "#Iterating over dictionaries\n",
        "\n",
        "for name,id in ourNsuId.items():\n",
        "  print(\"Name: %s ID: %d\"%(name,id))\n",
        "#deleting item from dictionary\n",
        "\n",
        "del ourNsuId[\"lipon\"]\n",
        "print(\"After deleting one item \",ourNsuId)\n",
        "\n",
        "#another way to delete\n",
        "ourNsuId.pop(\"sayem\");\n",
        "\n",
        "print(\"After deleting another item\",ourNsuId)\n",
        "\n",
        "ourNsuId[\"lipon\"] = 1935369650\n",
        "\n",
        "print(\"After adding lipon again\",ourNsuId)"
      ],
      "execution_count": 12,
      "outputs": [
        {
          "output_type": "stream",
          "text": [
            "Name: minhaz sir ID: 1935365650\n",
            "Name: lipon ID: 1935369650\n",
            "Name: sayem ID: 1935190650\n",
            "Name: rumman ID: 2016652650\n",
            "After deleting one item  {'minhaz sir': 1935365650, 'sayem': 1935190650, 'rumman': 2016652650}\n",
            "After deleting another item {'minhaz sir': 1935365650, 'rumman': 2016652650}\n",
            "After adding lipon again {'minhaz sir': 1935365650, 'rumman': 2016652650, 'lipon': 1935369650}\n"
          ],
          "name": "stdout"
        }
      ]
    }
  ]
}